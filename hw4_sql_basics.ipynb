{
    "metadata": {
        "kernelspec": {
            "name": "python3",
            "display_name": "Python 3 (ipykernel)",
            "language": "python"
        }
    },
    "nbformat": 4,
    "nbformat_minor": 5,
    "cells": [
        {
            "attachments": {},
            "cell_type": "markdown",
            "metadata": {},
            "source": [
                "## Creating databases\n",
                "\n",
                "Your boss wants you to import some CSV data into a database so all the analysts can process the data. The 2 files are:\n",
                "- `customers.csv` that contains customer information\n",
                "- `activities.csv`  that contains daily user activities.\n",
                "\n",
                "1. Please create a database called `demo.db` using `sqlite3` with 2 tables named `customers` and `activities` respectively.\n",
                "2. You should have a `sqlite3.Connection` object called `conn`\n",
                "3. You should have a `sqlite3.Cursor` object called `cursor`\n",
                "4. Boolean values should be stored as `TEXT`\n",
                "5. You should follow the class example where no primary keys are set and we do not set default values.\n",
                "\n",
                "Warning, do not close the connection in the cell below.\n",
                "\n",
                "Hints:\n",
                "- If you created the table incorrectly or want to run the `CREATE TABLE` command multiple times, you may have to use `DROP TABLE {table}` to erase the table first."
            ]
        },
        {
            "cell_type": "code",
            "execution_count": 1,
            "metadata": {},
            "outputs": [
                {
                    "name": "stdout",
                    "output_type": "stream",
                    "text": "['./customers.csv', './activities.csv']\n"
                }
            ],
            "source": [
                "from glob import glob\n",
                "\n",
                "import pandas as pd\n",
                "\n",
                "fns = glob(\"./*.csv\")\n",
                "print(fns)"
            ]
        },
        {
            "cell_type": "code",
            "execution_count": 2,
            "metadata": {},
            "outputs": [
                {
                    "ename": "NameError",
                    "evalue": "name 'demo' is not defined",
                    "output_type": "error",
                    "traceback": [
                        "\u001b[0;31m---------------------------------------------------------------------------\u001b[0m",
                        "\u001b[0;31mNameError\u001b[0m                                 Traceback (most recent call last)",
                        "Cell \u001b[0;32mIn [1], line 6\u001b[0m\n\u001b[1;32m      4\u001b[0m customers \u001b[38;5;241m=\u001b[39m pd\u001b[38;5;241m.\u001b[39mread_csv(\u001b[38;5;124m\"\u001b[39m\u001b[38;5;124mcustomers.csv\u001b[39m\u001b[38;5;124m\"\u001b[39m)\n\u001b[1;32m      5\u001b[0m activities \u001b[38;5;241m=\u001b[39m pd\u001b[38;5;241m.\u001b[39mread_csv(\u001b[38;5;124m\"\u001b[39m\u001b[38;5;124mactivities.csv\u001b[39m\u001b[38;5;124m\"\u001b[39m)\n\u001b[0;32m----\u003e 6\u001b[0m \u001b[43mdemo\u001b[49m\u001b[38;5;241m.\u001b[39mdb\n\u001b[1;32m      7\u001b[0m conn\u001b[38;5;241m=\u001b[39msqlite3\u001b[38;5;241m.\u001b[39mconnect(\u001b[38;5;124m\"\u001b[39m\u001b[38;5;124mdemo.db\u001b[39m\u001b[38;5;124m\"\u001b[39m)\n\u001b[1;32m      8\u001b[0m cursor \u001b[38;5;241m=\u001b[39m conn\u001b[38;5;241m.\u001b[39mcursor()\n",
                        "\u001b[0;31mNameError\u001b[0m: name 'demo' is not defined"
                    ]
                }
            ],
            "source": [
                "### TEST FUNCTION: test_create_table\n",
                "# DO NOT REMOVE THE LINE ABOVE\n",
                "\n",
                "customers = pd.read_csv(\"customers.csv\")\n",
                "activities = pd.read_csv(\"activities.csv\")\n",
                "demo.db\n",
                "conn=sqlite3.connect(\"demo.db\")\n",
                "cursor = conn.cursor()\n",
                "\n",
                ""
            ]
        },
        {
            "attachments": {},
            "cell_type": "markdown",
            "metadata": {},
            "source": [
                "## Exploring the databases and tables\n",
                "\n",
                "1. Please use your `cursor` variable from above and write the SQL query that will return all the names of the tables in the `demo.db` database.\n",
                "2. Please create a variable, `tables`, that is a list of strings where the string values are the table names (order does not matter).\n",
                "3. Please use `tables` to create a dictionary called `schema`. `schema` should have keys corresponding to the table names and values corresponding to the output from the SQL query `PRAGMA table_info('{TABLE_NAME}')`\n",
                ""
            ]
        },
        {
            "cell_type": "code",
            "execution_count": 3,
            "metadata": {},
            "outputs": [],
            "source": [
                "### TEST FUNCTION: test_explore_db\n",
                "# DO NOT REMOVE THE LINE ABOVE\n",
                "\n",
                ""
            ]
        },
        {
            "cell_type": "code",
            "execution_count": 4,
            "metadata": {},
            "outputs": [],
            "source": [
                ""
            ]
        },
        {
            "attachments": {},
            "cell_type": "markdown",
            "metadata": {},
            "source": [
                "## Making some queries\n",
                "\n",
                "Please answer all of the following questions using SQL queries, there is no need to call `fetchall()`. We will use your query in the testing.\n",
                "\n",
                "How many different users visited on \"2022/01/02\"? A visiting user is someone who has a row in the `activities` table. Please assign the SQL query, as a string, to a variabled called `query1`."
            ]
        },
        {
            "cell_type": "code",
            "execution_count": 5,
            "metadata": {},
            "outputs": [],
            "source": [
                "### TEST FUNCTION: test_sql1\n",
                "# DO NOT REMOVE THE LINE ABOVE\n",
                "\n",
                "query1 = \"\"\"\n",
                "\n",
                "\n",
                "\"\"\""
            ]
        },
        {
            "cell_type": "code",
            "execution_count": 6,
            "metadata": {},
            "outputs": [],
            "source": [
                ""
            ]
        },
        {
            "attachments": {},
            "cell_type": "markdown",
            "metadata": {},
            "source": [
                "## Making some queries\n",
                "\n",
                "How many different subscribers visited on \"2022/01/02\"? Please assign the SQL query, as a string, to a variabled called `query2`. Hint: check `'subscriber' defined in 'customer'`  and use `JOIN`"
            ]
        },
        {
            "cell_type": "code",
            "execution_count": 7,
            "metadata": {},
            "outputs": [],
            "source": [
                "### TEST FUNCTION: test_sql2\n",
                "# DO NOT REMOVE THE LINE ABOVE\n",
                "\n",
                "query2 = \"\"\"\n",
                "\"\"\"\n",
                ""
            ]
        },
        {
            "cell_type": "code",
            "execution_count": 8,
            "metadata": {},
            "outputs": [],
            "source": [
                ""
            ]
        },
        {
            "attachments": {},
            "cell_type": "markdown",
            "metadata": {},
            "source": [
                "## Makeing some queries\n",
                "\n",
                "For each day, please calculate, in the following order:\n",
                "- the date\n",
                "- the number of unique visitors\n",
                "- the total pageviews across all users\n",
                "- the total likes across all users\n",
                "- the total writes across all users\n",
                "- the total activities across all users, total activities = total pageviews + total likes + total writes.\n",
                "\n",
                "Please assign the query the answer to a variabled called `query3`."
            ]
        },
        {
            "cell_type": "code",
            "execution_count": 9,
            "metadata": {},
            "outputs": [],
            "source": [
                "### TEST FUNCTION: test_sql3\n",
                "# DO NOT REMOVE THE LINE ABOVE\n",
                "connecton=sqlite3.connect(\"demo.db\")\n",
                "cursor=connection.cursor()\n",
                "\n",
                "query3 = \"\"\"\n",
                "      SELECT\n",
                "      activities.date,\n",
                "      COUNT(DISTINCT(activities.name)),\n",
                "      SUM(activities.pageviews),\n",
                "      SUM(COALESCE(activities.like,0)),\n",
                "      SUM(activities.writes),\n",
                "      SUM(COALESCE(activities.pageviews,COALESCE))\n",
                "      From activities\n",
                "      GROUP BY date\n",
                "\n",
                "\n",
                "\"\"\"\n",
                "output=cursor.execute(query).fetchall()\n",
                "output"
            ]
        },
        {
            "cell_type": "code",
            "execution_count": 10,
            "metadata": {},
            "outputs": [],
            "source": [
                ""
            ]
        }
    ]
}
